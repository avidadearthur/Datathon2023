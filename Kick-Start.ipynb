{
 "cells": [
  {
   "cell_type": "code",
   "execution_count": 1,
   "metadata": {},
   "outputs": [],
   "source": [
    "import pandas as pd\n",
    "import numpy as np\n",
    "import matplotlib.pyplot as plt"
   ]
  },
  {
   "cell_type": "code",
   "execution_count": 79,
   "metadata": {},
   "outputs": [
    {
     "data": {
      "text/plain": "   id                   name  \\\n0   0       Vincent Van Gogh   \n1   1  Pierre Auguste Renoir   \n2   2     Claude Oscar Monet   \n3   3        Fernando Botero   \n4   4       Jean-Léon Gérôme   \n\n                                                 url  \\\n0  http://wikigallery.org/wiki/artist36933/Vincen...   \n1  http://wikigallery.org/wiki/artist39254/Pierre...   \n2  http://wikigallery.org/wiki/artist39249/Claude...   \n3  http://wikigallery.org/wiki/artist37052/Fernan...   \n4  http://wikigallery.org/wiki/artist46453/Jean-L...   \n\n                                             summary  picture  birthplace  \\\n0  Vincent Willem van Gogh (Dutch: [ˈvɪnsɛnt ˈʋɪl...      0.0         0.0   \n1  Pierre-Auguste Renoir (French: [pjɛʁ oɡyst ʁən...      1.0         1.0   \n2  Oscar-Claude Monet (UK: , US: , French: [klod ...      2.0         2.0   \n3  Fernando Botero Angulo (born 19 April 1932) is...      3.0         3.0   \n4  Jean-Léon Gérôme (11 May 1824 – 10 January 190...      4.0         4.0   \n\n   deathplace   birthdate   deathdate cause_of_death  \n0       342.0  1853-03-30  1890-07-29  Gunshot wound  \n1       343.0  1841-02-25  1919-12-03           None  \n2       344.0  1840-11-14  1926-12-05           None  \n3         NaN  1932-04-19        None           None  \n4         2.0  1824-05-11  1904-01-10           None  ",
      "text/html": "<div>\n<style scoped>\n    .dataframe tbody tr th:only-of-type {\n        vertical-align: middle;\n    }\n\n    .dataframe tbody tr th {\n        vertical-align: top;\n    }\n\n    .dataframe thead th {\n        text-align: right;\n    }\n</style>\n<table border=\"1\" class=\"dataframe\">\n  <thead>\n    <tr style=\"text-align: right;\">\n      <th></th>\n      <th>id</th>\n      <th>name</th>\n      <th>url</th>\n      <th>summary</th>\n      <th>picture</th>\n      <th>birthplace</th>\n      <th>deathplace</th>\n      <th>birthdate</th>\n      <th>deathdate</th>\n      <th>cause_of_death</th>\n    </tr>\n  </thead>\n  <tbody>\n    <tr>\n      <th>0</th>\n      <td>0</td>\n      <td>Vincent Van Gogh</td>\n      <td>http://wikigallery.org/wiki/artist36933/Vincen...</td>\n      <td>Vincent Willem van Gogh (Dutch: [ˈvɪnsɛnt ˈʋɪl...</td>\n      <td>0.0</td>\n      <td>0.0</td>\n      <td>342.0</td>\n      <td>1853-03-30</td>\n      <td>1890-07-29</td>\n      <td>Gunshot wound</td>\n    </tr>\n    <tr>\n      <th>1</th>\n      <td>1</td>\n      <td>Pierre Auguste Renoir</td>\n      <td>http://wikigallery.org/wiki/artist39254/Pierre...</td>\n      <td>Pierre-Auguste Renoir (French: [pjɛʁ oɡyst ʁən...</td>\n      <td>1.0</td>\n      <td>1.0</td>\n      <td>343.0</td>\n      <td>1841-02-25</td>\n      <td>1919-12-03</td>\n      <td>None</td>\n    </tr>\n    <tr>\n      <th>2</th>\n      <td>2</td>\n      <td>Claude Oscar Monet</td>\n      <td>http://wikigallery.org/wiki/artist39249/Claude...</td>\n      <td>Oscar-Claude Monet (UK: , US: , French: [klod ...</td>\n      <td>2.0</td>\n      <td>2.0</td>\n      <td>344.0</td>\n      <td>1840-11-14</td>\n      <td>1926-12-05</td>\n      <td>None</td>\n    </tr>\n    <tr>\n      <th>3</th>\n      <td>3</td>\n      <td>Fernando Botero</td>\n      <td>http://wikigallery.org/wiki/artist37052/Fernan...</td>\n      <td>Fernando Botero Angulo (born 19 April 1932) is...</td>\n      <td>3.0</td>\n      <td>3.0</td>\n      <td>NaN</td>\n      <td>1932-04-19</td>\n      <td>None</td>\n      <td>None</td>\n    </tr>\n    <tr>\n      <th>4</th>\n      <td>4</td>\n      <td>Jean-Léon Gérôme</td>\n      <td>http://wikigallery.org/wiki/artist46453/Jean-L...</td>\n      <td>Jean-Léon Gérôme (11 May 1824 – 10 January 190...</td>\n      <td>4.0</td>\n      <td>4.0</td>\n      <td>2.0</td>\n      <td>1824-05-11</td>\n      <td>1904-01-10</td>\n      <td>None</td>\n    </tr>\n  </tbody>\n</table>\n</div>"
     },
     "execution_count": 79,
     "metadata": {},
     "output_type": "execute_result"
    }
   ],
   "source": [
    "artists = pd.read_parquet('https://kuleuven-datathon-2023.s3.eu-central-1.amazonaws.com/data/Artist.parquet.gzip')\n",
    "artists.head()"
   ]
  },
  {
   "cell_type": "markdown",
   "metadata": {},
   "source": [
    "<h3>Artist</h3>\n",
    "\n",
    "The 'Artist' table is a central component of the dataset and provides information on famous painters and their careers. Next you'll find some basic info about this part of the dataset. But first, let's do some cleaning."
   ]
  },
  {
   "cell_type": "code",
   "execution_count": 80,
   "outputs": [
    {
     "name": "stdout",
     "output_type": "stream",
     "text": [
      "46                 Bartlett, William Henry\n",
      "81                (after) Hieronymus Bosch\n",
      "83           (after) Pietro Antonio Rotari\n",
      "94                    (after) William Etty\n",
      "107         (after) Philippe De Champaigne\n",
      "                      ...                 \n",
      "565               (after) Andrea Del Sarto\n",
      "567                  Christian F. Schwerdt\n",
      "578               Pieter Pietersz. Lastman\n",
      "594    Hendrick van and Brueghel, J. Balen\n",
      "608                     Ercole de' Roberti\n",
      "Name: name, Length: 79, dtype: object\n",
      "(616, 10)\n",
      "(79, 10)\n"
     ]
    }
   ],
   "source": [
    "# find all rows with non-alphabetic characters in the 'name' column\n",
    "non_alpha = artists[artists['name'].str.contains('[^a-zA-Z\\séèêëôöîïçñ\\-]')]\n",
    "print(non_alpha['name'])\n",
    "print(artists.shape)\n",
    "print(non_alpha.shape)"
   ],
   "metadata": {
    "collapsed": false
   }
  },
  {
   "cell_type": "code",
   "execution_count": 81,
   "outputs": [
    {
     "name": "stdout",
     "output_type": "stream",
     "text": [
      "46                             Bartlett, William Henry\n",
      "112                              Dyck, Sir Anthony van\n",
      "120                 (Giovanni Antonio Canal) Canaletto\n",
      "121                                    Arthur W. Perry\n",
      "128                          Tivadar Kosztka Csontváry\n",
      "141    Girolamo Francesco Maria Mazzola (Parmigianino)\n",
      "152                    Edouard (Jean-Edouard) Vuillard\n",
      "157                           Paolo Veronese (Caliari)\n",
      "160                                           J. Haier\n",
      "162                        Jacopo Tintoretto (Robusti)\n",
      "174                  William (Turner of Oxford) Turner\n",
      "180                        Correggio (Antonio Allegri)\n",
      "191                          Millais, Sir John Everett\n",
      "206                                         H. Pittard\n",
      "213                                    Henry W. Hansen\n",
      "216                    Sebastiano Del Piombo (Luciani)\n",
      "236                                  Catherine M. Wood\n",
      "242                      Bernardo Bellotto (Canaletto)\n",
      "243                           Theofilos (Hadjimichail)\n",
      "259                    Iulii Iul'evich (Julius) Klever\n",
      "263                    Henri-Jules-Jean Geoffroy (Geo)\n",
      "273                                    George A. Boyle\n",
      "298                   Willem van de, the Younger Velde\n",
      "306                            Pugin, Augustus Charles\n",
      "307                 (Giovanni Antonio Canal) Canaletto\n",
      "308                                Willem Claesz. Heda\n",
      "310                    Didier Barra (Monsu, Desiderio)\n",
      "315                          Tiziano Vecellio (Titian)\n",
      "343                                      John O'Connor\n",
      "344                                  Dr. H.A. Oldfield\n",
      "369                               John Adam P. Houston\n",
      "381                        Edward Robert Hughes R.W.S.\n",
      "383             Jan van der (Joannes Stradanus) Straet\n",
      "402             Giovanni Francesco Guercino (BARBIERI)\n",
      "413                El Greco (Domenikos Theotokopoulos)\n",
      "417                              Vincent G. Stiepevich\n",
      "431                    P. Joos van Gent and Berruguete\n",
      "437                              Hubert & Jan van Eyck\n",
      "450                          Tiziano Vecellio (Titian)\n",
      "454                               Kneller, Sir Godfrey\n",
      "463                                    Huysmans, Jacob\n",
      "472                Giovanni Battista (Baciccio) Gaulli\n",
      "476                        Salvador Dali (inspired by)\n",
      "478                        George Dunlop, R.A., Leslie\n",
      "482                                   Hoefnagel, Joris\n",
      "495            Sandro Botticelli (Alessandro Filipepi)\n",
      "501           Giovanni Battista Salvi, Il Sassoferrato\n",
      "524                                Landseer, Sir Edwin\n",
      "541                 and Snyders, F. Rubens, Peter Paul\n",
      "560                                        László Paal\n",
      "562                                 (studio of) Clouet\n",
      "563                          Willem Cornelisz. Duyster\n",
      "567                              Christian F. Schwerdt\n",
      "578                           Pieter Pietersz. Lastman\n",
      "594                Hendrick van and Brueghel, J. Balen\n",
      "608                                 Ercole de' Roberti\n",
      "Name: name, dtype: object\n",
      "(616, 10)\n",
      "(56, 10)\n"
     ]
    },
    {
     "name": "stderr",
     "output_type": "stream",
     "text": [
      "C:\\Users\\arthu\\anaconda3\\lib\\site-packages\\ipykernel_launcher.py:2: FutureWarning: The default value of regex will change from True to False in a future version.\n",
      "  \n"
     ]
    }
   ],
   "source": [
    "# remove all the '(after)' from the 'name' column for all rows\n",
    "artists['name'] = artists['name'].str.replace(r'\\(after\\)', '')\n",
    "non_alpha = artists[artists['name'].str.contains('[^a-zA-Z\\séèêëôöîïçñ\\-]')]\n",
    "print(non_alpha['name'])\n",
    "print(artists.shape)\n",
    "print(non_alpha.shape)"
   ],
   "metadata": {
    "collapsed": false
   }
  },
  {
   "cell_type": "code",
   "execution_count": 82,
   "outputs": [
    {
     "name": "stdout",
     "output_type": "stream",
     "text": [
      "120                 (Giovanni Antonio Canal) Canaletto\n",
      "121                                    Arthur W. Perry\n",
      "128                          Tivadar Kosztka Csontváry\n",
      "141    Girolamo Francesco Maria Mazzola (Parmigianino)\n",
      "152                    Edouard (Jean-Edouard) Vuillard\n",
      "157                           Paolo Veronese (Caliari)\n",
      "160                                           J. Haier\n",
      "162                        Jacopo Tintoretto (Robusti)\n",
      "174                  William (Turner of Oxford) Turner\n",
      "180                        Correggio (Antonio Allegri)\n",
      "206                                         H. Pittard\n",
      "213                                    Henry W. Hansen\n",
      "216                    Sebastiano Del Piombo (Luciani)\n",
      "236                                  Catherine M. Wood\n",
      "242                      Bernardo Bellotto (Canaletto)\n",
      "243                           Theofilos (Hadjimichail)\n",
      "259                    Iulii Iul'evich (Julius) Klever\n",
      "263                    Henri-Jules-Jean Geoffroy (Geo)\n",
      "273                                    George A. Boyle\n",
      "307                 (Giovanni Antonio Canal) Canaletto\n",
      "308                                Willem Claesz. Heda\n",
      "310                     Didier Barra (Monsu Desiderio)\n",
      "315                          Tiziano Vecellio (Titian)\n",
      "343                                      John O'Connor\n",
      "344                                  Dr. H.A. Oldfield\n",
      "369                               John Adam P. Houston\n",
      "381                        Edward Robert Hughes R.W.S.\n",
      "383             Jan van der (Joannes Stradanus) Straet\n",
      "402             Giovanni Francesco Guercino (BARBIERI)\n",
      "413                El Greco (Domenikos Theotokopoulos)\n",
      "417                              Vincent G. Stiepevich\n",
      "431                    P. Joos van Gent and Berruguete\n",
      "437                              Hubert & Jan van Eyck\n",
      "450                          Tiziano Vecellio (Titian)\n",
      "472                Giovanni Battista (Baciccio) Gaulli\n",
      "476                        Salvador Dali (inspired by)\n",
      "478                          George Dunlop R.A. Leslie\n",
      "495            Sandro Botticelli (Alessandro Filipepi)\n",
      "541                   and Snyders F. Rubens Peter Paul\n",
      "560                                        László Paal\n",
      "562                                 (studio of) Clouet\n",
      "563                          Willem Cornelisz. Duyster\n",
      "567                              Christian F. Schwerdt\n",
      "578                           Pieter Pietersz. Lastman\n",
      "594                 Hendrick van and Brueghel J. Balen\n",
      "608                                 Ercole de' Roberti\n",
      "Name: name, dtype: object\n",
      "(616, 10)\n",
      "(46, 10)\n"
     ]
    },
    {
     "name": "stderr",
     "output_type": "stream",
     "text": [
      "C:\\Users\\arthu\\anaconda3\\lib\\site-packages\\ipykernel_launcher.py:2: FutureWarning: The default value of regex will change from True to False in a future version.\n",
      "  \n"
     ]
    }
   ],
   "source": [
    "# remove all the ',' from the fields in the 'name' column for all rows\n",
    "artists['name'] = artists['name'].str.replace(r'\\,', '')\n",
    "non_alpha = artists[artists['name'].str.contains('[^a-zA-Z\\séèêëôöîïçñ\\-]')]\n",
    "print(non_alpha['name'])\n",
    "print(artists.shape)\n",
    "print(non_alpha.shape)"
   ],
   "metadata": {
    "collapsed": false
   }
  },
  {
   "cell_type": "markdown",
   "source": [
    "<p>Enough cleaning for now. Let's fill some missing data</p>"
   ],
   "metadata": {
    "collapsed": false
   }
  },
  {
   "cell_type": "code",
   "execution_count": 83,
   "metadata": {},
   "outputs": [
    {
     "name": "stdout",
     "output_type": "stream",
     "text": [
      "Potentially alive: (346, 10)\n",
      "Potentially dead: (270, 10)\n"
     ]
    }
   ],
   "source": [
    "# Select all artists that have death date as NaN\n",
    "artists_alive = artists[artists['deathdate'].isna()]\n",
    "print(\"Potentially alive: \" + str(artists_alive.shape))\n",
    "# Select all artists that have 'deathdate' different from NaN\n",
    "artists_dead = artists[artists['deathdate'].notna()]\n",
    "print(\"Potentially dead: \" + str(artists_dead.shape))"
   ]
  },
  {
   "cell_type": "code",
   "execution_count": 84,
   "metadata": {},
   "outputs": [
    {
     "name": "stdout",
     "output_type": "stream",
     "text": [
      "artists_with_birthdate: (225, 10)\n",
      "artists_without_birthdate: (391, 10)\n"
     ]
    },
    {
     "data": {
      "text/plain": "5                Paul Cezanne\n7         John Singer Sargent\n10                    Raphael\n11    Michelangelo Buonarroti\n16          Peter Paul Rubens\nName: name, dtype: object"
     },
     "execution_count": 84,
     "metadata": {},
     "output_type": "execute_result"
    }
   ],
   "source": [
    "artists_with_birthdate = artists[artists['birthdate'].notna()]\n",
    "print(\"artists_with_birthdate: \" + str(artists_with_birthdate.shape))\n",
    "\n",
    "artists_without_birthdate = artists[artists['birthdate'].isna()]\n",
    "print(\"artists_without_birthdate: \" + str(artists_without_birthdate.shape))\n",
    "\n",
    "artists_without_birthdate[\"name\"].head()"
   ]
  },
  {
   "cell_type": "code",
   "execution_count": 85,
   "metadata": {},
   "outputs": [
    {
     "name": "stdout",
     "output_type": "stream",
     "text": [
      "artists_without_birthdate_or_deathdate: (400, 10)\n"
     ]
    }
   ],
   "source": [
    "artists_without_birthdate_or_deathdate = artists[\n",
    "    artists['birthdate'].isna() | artists['deathdate'].isna()]\n",
    "\n",
    "print(\"artists_without_birthdate_or_deathdate: \" + str(artists_without_birthdate_or_deathdate.shape))"
   ]
  },
  {
   "cell_type": "markdown",
   "metadata": {},
   "source": [
    "It seems most of the artists in this dataset don't have a birthdate or a deathdate. Some may still be alive but can we fill in the missing birthdates?"
   ]
  },
  {
   "cell_type": "code",
   "execution_count": 86,
   "metadata": {},
   "outputs": [
    {
     "data": {
      "text/plain": "                       name   birthdate   deathdate\n3           Fernando Botero  1932-04-19        None\n5              Paul Cezanne        None        None\n7       John Singer Sargent        None        None\n10                  Raphael        None        None\n11  Michelangelo Buonarroti        None  1564-02-18\n16        Peter Paul Rubens        None        None\n22         Tiziano Vecellio        None  1576-08-27\n25           Albrecht Durer        None        None\n28      Jacques Louis David        None        None\n30        Giotto Di Bondone        None  1337-01-08",
      "text/html": "<div>\n<style scoped>\n    .dataframe tbody tr th:only-of-type {\n        vertical-align: middle;\n    }\n\n    .dataframe tbody tr th {\n        vertical-align: top;\n    }\n\n    .dataframe thead th {\n        text-align: right;\n    }\n</style>\n<table border=\"1\" class=\"dataframe\">\n  <thead>\n    <tr style=\"text-align: right;\">\n      <th></th>\n      <th>name</th>\n      <th>birthdate</th>\n      <th>deathdate</th>\n    </tr>\n  </thead>\n  <tbody>\n    <tr>\n      <th>3</th>\n      <td>Fernando Botero</td>\n      <td>1932-04-19</td>\n      <td>None</td>\n    </tr>\n    <tr>\n      <th>5</th>\n      <td>Paul Cezanne</td>\n      <td>None</td>\n      <td>None</td>\n    </tr>\n    <tr>\n      <th>7</th>\n      <td>John Singer Sargent</td>\n      <td>None</td>\n      <td>None</td>\n    </tr>\n    <tr>\n      <th>10</th>\n      <td>Raphael</td>\n      <td>None</td>\n      <td>None</td>\n    </tr>\n    <tr>\n      <th>11</th>\n      <td>Michelangelo Buonarroti</td>\n      <td>None</td>\n      <td>1564-02-18</td>\n    </tr>\n    <tr>\n      <th>16</th>\n      <td>Peter Paul Rubens</td>\n      <td>None</td>\n      <td>None</td>\n    </tr>\n    <tr>\n      <th>22</th>\n      <td>Tiziano Vecellio</td>\n      <td>None</td>\n      <td>1576-08-27</td>\n    </tr>\n    <tr>\n      <th>25</th>\n      <td>Albrecht Durer</td>\n      <td>None</td>\n      <td>None</td>\n    </tr>\n    <tr>\n      <th>28</th>\n      <td>Jacques Louis David</td>\n      <td>None</td>\n      <td>None</td>\n    </tr>\n    <tr>\n      <th>30</th>\n      <td>Giotto Di Bondone</td>\n      <td>None</td>\n      <td>1337-01-08</td>\n    </tr>\n  </tbody>\n</table>\n</div>"
     },
     "execution_count": 86,
     "metadata": {},
     "output_type": "execute_result"
    }
   ],
   "source": [
    "# get the name of the first 10 artists without birthdate\n",
    "artists_without_birthdate_or_deathdate[['name','birthdate','deathdate']].head(10)"
   ]
  },
  {
   "cell_type": "code",
   "execution_count": 10,
   "outputs": [
    {
     "data": {
      "text/plain": "IntProgress(value=0, max=391)",
      "application/vnd.jupyter.widget-view+json": {
       "version_major": 2,
       "version_minor": 0,
       "model_id": "1748de4196ca4ef6bf078408feade5ca"
      }
     },
     "metadata": {},
     "output_type": "display_data"
    }
   ],
   "source": [
    "import scraper_functions as sf\n",
    "# # Example usage\n",
    "# convert the artists_without_birthdate_and_deathdate[\"name\"] to a list\n",
    "a = artists_without_birthdate[\"name\"].tolist()\n",
    "\n",
    "#wikipedia_links, artists_not_found = sf.get_wikipedia_links(a)"
   ],
   "metadata": {
    "collapsed": false
   }
  },
  {
   "cell_type": "code",
   "execution_count": 11,
   "outputs": [
    {
     "name": "stdout",
     "output_type": "stream",
     "text": [
      "nr Artists potentially found on wikipedia: 377\n",
      "nr Artists not found on wikipedia: 15\n"
     ]
    }
   ],
   "source": [
    "print(\"nr Artists potentially found on wikipedia: \" + str(len(wikipedia_links)))\n",
    "print(\"nr Artists not found on wikipedia: \" + str(len(artists_not_found)))"
   ],
   "metadata": {
    "collapsed": false
   }
  },
  {
   "cell_type": "code",
   "execution_count": 12,
   "outputs": [
    {
     "name": "stdout",
     "output_type": "stream",
     "text": [
      "['Oene Romkes De Jongh', 'Marianne Preindelsberger Stokes', 'Auguste Joseph Marie De Mersseman', 'Axel Birkhammer', 'Albert Lambron Des Pilitieres', \"Iulii Iul'evich (Julius) Klever\", 'Jose Llaneces', 'Pieter II Peetersz', 'August Theodor Schoefft', 'Ladislas Wladislaw von Czachorski', 'Emile Eisman Semenovsky', 'Klavdiy Vasilievich Lebedev', 'Alexei Alexeivich Harlamoff', 'Frederick Marianus Kruseman', 'Jan Baptiste de Landtsheer']\n"
     ]
    }
   ],
   "source": [
    "print(artists_not_found)"
   ],
   "metadata": {
    "collapsed": false
   }
  },
  {
   "cell_type": "code",
   "execution_count": 13,
   "metadata": {},
   "outputs": [],
   "source": [
    "# for each element in dictionary, write the key and value to a csv file\n",
    "with open(\"artists_without_birthdate_and_deathdate.txt\", \"w\") as file:\n",
    "    file.write(\"name,link\"+\"\\n\")\n",
    "    for key, value in wikipedia_links.items():\n",
    "            file.write(key+\",\"+value+\"\\n\")\n"
   ]
  },
  {
   "cell_type": "code",
   "execution_count": 15,
   "metadata": {
    "scrolled": true
   },
   "outputs": [
    {
     "data": {
      "text/plain": "IntProgress(value=0, max=377)",
      "application/vnd.jupyter.widget-view+json": {
       "version_major": 2,
       "version_minor": 0,
       "model_id": "c31831f609dd4e8ba8d9df1a46c5cf38"
      }
     },
     "metadata": {},
     "output_type": "display_data"
    }
   ],
   "source": [
    "#names_and_dates = sf.get_dates_from_wikipedia(wikipedia_links)"
   ]
  },
  {
   "cell_type": "code",
   "execution_count": 18,
   "outputs": [
    {
     "name": "stdout",
     "output_type": "stream",
     "text": [
      "377\n"
     ]
    }
   ],
   "source": [
    "print(len(names_and_dates))"
   ],
   "metadata": {
    "collapsed": false
   }
  },
  {
   "cell_type": "code",
   "execution_count": 46,
   "metadata": {},
   "outputs": [],
   "source": [
    "# for each element in dictionary, write the key and value to a csv file\n",
    "with open(\"artists_birthdate_deathdate.txt\", \"w\") as file:\n",
    "    file.write(\"name,birthdate,deathdate\"+\"\\n\")\n",
    "    for key, value in names_and_dates.items():\n",
    "            file.write(key+\",\"+str(value['birth_year'])+\",\"+str(value['death_year'])+\"\\n\")"
   ]
  },
  {
   "cell_type": "code",
   "execution_count": 87,
   "metadata": {},
   "outputs": [
    {
     "data": {
      "text/plain": "                      name birthdate deathdate\n0             Paul Cezanne      1839      1906\n1      John Singer Sargent      1856      1925\n2                  Raphael      1483      1520\n3  Michelangelo Buonarroti      1475      1564\n4        Peter Paul Rubens      1577      1640\n5         Tiziano Vecellio      1488      1576\n6           Albrecht Durer      1471      1528\n7      Jacques Louis David      1748      1825\n8        Giotto Di Bondone      1267      1337\n9               Franz Marc      1880      1916",
      "text/html": "<div>\n<style scoped>\n    .dataframe tbody tr th:only-of-type {\n        vertical-align: middle;\n    }\n\n    .dataframe tbody tr th {\n        vertical-align: top;\n    }\n\n    .dataframe thead th {\n        text-align: right;\n    }\n</style>\n<table border=\"1\" class=\"dataframe\">\n  <thead>\n    <tr style=\"text-align: right;\">\n      <th></th>\n      <th>name</th>\n      <th>birthdate</th>\n      <th>deathdate</th>\n    </tr>\n  </thead>\n  <tbody>\n    <tr>\n      <th>0</th>\n      <td>Paul Cezanne</td>\n      <td>1839</td>\n      <td>1906</td>\n    </tr>\n    <tr>\n      <th>1</th>\n      <td>John Singer Sargent</td>\n      <td>1856</td>\n      <td>1925</td>\n    </tr>\n    <tr>\n      <th>2</th>\n      <td>Raphael</td>\n      <td>1483</td>\n      <td>1520</td>\n    </tr>\n    <tr>\n      <th>3</th>\n      <td>Michelangelo Buonarroti</td>\n      <td>1475</td>\n      <td>1564</td>\n    </tr>\n    <tr>\n      <th>4</th>\n      <td>Peter Paul Rubens</td>\n      <td>1577</td>\n      <td>1640</td>\n    </tr>\n    <tr>\n      <th>5</th>\n      <td>Tiziano Vecellio</td>\n      <td>1488</td>\n      <td>1576</td>\n    </tr>\n    <tr>\n      <th>6</th>\n      <td>Albrecht Durer</td>\n      <td>1471</td>\n      <td>1528</td>\n    </tr>\n    <tr>\n      <th>7</th>\n      <td>Jacques Louis David</td>\n      <td>1748</td>\n      <td>1825</td>\n    </tr>\n    <tr>\n      <th>8</th>\n      <td>Giotto Di Bondone</td>\n      <td>1267</td>\n      <td>1337</td>\n    </tr>\n    <tr>\n      <th>9</th>\n      <td>Franz Marc</td>\n      <td>1880</td>\n      <td>1916</td>\n    </tr>\n  </tbody>\n</table>\n</div>"
     },
     "execution_count": 87,
     "metadata": {},
     "output_type": "execute_result"
    }
   ],
   "source": [
    "df = pd.read_csv('artists_birthdate_deathdate.txt', delimiter = \",\", encoding =\"ANSI\")\n",
    "df.head(10)"
   ]
  },
  {
   "cell_type": "code",
   "execution_count": 88,
   "outputs": [
    {
     "name": "stderr",
     "output_type": "stream",
     "text": [
      "C:\\Users\\arthu\\anaconda3\\lib\\site-packages\\pandas\\core\\indexing.py:1732: SettingWithCopyWarning: \n",
      "A value is trying to be set on a copy of a slice from a DataFrame\n",
      "\n",
      "See the caveats in the documentation: https://pandas.pydata.org/pandas-docs/stable/user_guide/indexing.html#returning-a-view-versus-a-copy\n",
      "  self._setitem_single_block(indexer, value, name)\n"
     ]
    }
   ],
   "source": [
    "# for the artist names in df, check if the same artist name is in artists and check if the birthdate is NaN replace the birthdate with the birthdate from df. If the deathdate is NaN, replace the deathdate with the deathdate from df\n",
    "\n",
    "for index, row in df.iterrows():\n",
    "    # locate the row in artists\n",
    "    row_index = artists[artists['name'] == row['name']].index[0]\n",
    "    # print artist[['name','birthdate','deathdate']] at row_index\n",
    "    # print(artists[['name','birthdate','deathdate']].loc[row_index])\n",
    "    # if birthdate is None at row_index, replace with birthdate from df if not None\n",
    "    if pd.isnull(artists['birthdate'].loc[row_index]):\n",
    "        artists['birthdate'].loc[row_index] = df['birthdate'].loc[index]\n",
    "    # if deathdate is None at row_index, replace with deathdate from df if not None\n",
    "    if pd.isnull(artists['deathdate'].loc[row_index]):\n",
    "        artists['deathdate'].loc[row_index] = df['deathdate'].loc[index]\n",
    "\n"
   ],
   "metadata": {
    "collapsed": false
   }
  },
  {
   "cell_type": "code",
   "execution_count": 92,
   "outputs": [
    {
     "name": "stdout",
     "output_type": "stream",
     "text": [
      "Potentially alive: (268, 10)\n",
      "Potentially dead: (348, 10)\n"
     ]
    }
   ],
   "source": [
    "for index, row in artists.iterrows():\n",
    "    # check if birthdate is a string and does not contain numeric characters with regex\n",
    "    if isinstance(row['birthdate'], str) and not any(char.isdigit() for char in row['birthdate']):\n",
    "        artists.loc[index, 'birthdate'] = np.nan\n",
    "    # check if deathdate is a string and does not contain numeric characters with regex\n",
    "    if isinstance(row['deathdate'], str) and not any(char.isdigit() for char in row['deathdate']):\n",
    "        artists.loc[index, 'deathdate'] = np.nan\n",
    "\n",
    "# Select all artists that have death date as NaN\n",
    "artists_alive = artists[artists['deathdate'].isna()]\n",
    "print(\"Potentially alive: \" + str(artists_alive.shape))\n",
    "# Select all artists that have 'deathdate' different from NaN\n",
    "artists_dead = artists[artists['deathdate'].notna()]\n",
    "print(\"Potentially dead: \" + str(artists_dead.shape))\n"
   ],
   "metadata": {
    "collapsed": false
   }
  },
  {
   "cell_type": "code",
   "execution_count": 97,
   "outputs": [],
   "source": [
    "# copy the artists dataframe to a new dataframe\n",
    "artists_clean = artists.copy()\n",
    "# replace all entries that don't have numbers with NaN\n",
    "artists_clean['deathdate'] = artists_clean['deathdate'].apply(lambda x: np.nan if re.sub('[0-9]+', '', str(x)) else x)"
   ],
   "metadata": {
    "collapsed": false
   }
  },
  {
   "cell_type": "code",
   "execution_count": 98,
   "outputs": [
    {
     "name": "stdout",
     "output_type": "stream",
     "text": [
      "Potentially alive: (268, 10)\n",
      "Potentially dead: (348, 10)\n"
     ]
    }
   ],
   "source": [
    "# Select all artists that have death date as NaN\n",
    "artists_alive = artists_clean[artists_clean['deathdate'].isna()]\n",
    "print(\"Potentially alive: \" + str(artists_alive.shape))\n",
    "# Select all artists that have 'deathdate' different from NaN\n",
    "artists_dead = artists_clean[artists_clean['deathdate'].notna()]\n",
    "print(\"Potentially dead: \" + str(artists_dead.shape))"
   ],
   "metadata": {
    "collapsed": false
   }
  },
  {
   "cell_type": "code",
   "execution_count": 109,
   "outputs": [],
   "source": [
    "# convert artists_clean to csv\n",
    "artists_clean.to_csv('artists_clean.csv', index=False)"
   ],
   "metadata": {
    "collapsed": false
   }
  }
 ],
 "metadata": {
  "kernelspec": {
   "display_name": "Python 3 (ipykernel)",
   "language": "python",
   "name": "python3"
  },
  "language_info": {
   "codemirror_mode": {
    "name": "ipython",
    "version": 3
   },
   "file_extension": ".py",
   "mimetype": "text/x-python",
   "name": "python",
   "nbconvert_exporter": "python",
   "pygments_lexer": "ipython3",
   "version": "3.7.11"
  },
  "vscode": {
   "interpreter": {
    "hash": "e38bdacfe1d6e2b7e20a64d2eef782d7715e4314dc541be72f500d3c69b94a4f"
   }
  }
 },
 "nbformat": 4,
 "nbformat_minor": 2
}
